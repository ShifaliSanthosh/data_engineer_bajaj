{
  "nbformat": 4,
  "nbformat_minor": 0,
  "metadata": {
    "colab": {
      "provenance": [],
      "authorship_tag": "ABX9TyNPAbDhbuuCKwJPbegrVc3a",
      "include_colab_link": true
    },
    "kernelspec": {
      "name": "python3",
      "display_name": "Python 3"
    },
    "language_info": {
      "name": "python"
    }
  },
  "cells": [
    {
      "cell_type": "markdown",
      "metadata": {
        "id": "view-in-github",
        "colab_type": "text"
      },
      "source": [
        "<a href=\"https://colab.research.google.com/github/ShifaliSanthosh/data_engineer_bajaj/blob/main/DATA_ENGINEER.ipynb\" target=\"_parent\"><img src=\"https://colab.research.google.com/assets/colab-badge.svg\" alt=\"Open In Colab\"/></a>"
      ]
    },
    {
      "cell_type": "code",
      "source": [
        "import pandas as pd\n",
        "import json\n",
        "\n",
        "with open('DataEngineeringQ2.json', 'r') as file:\n",
        "    data = json.load(file)\n",
        "\n",
        "rows = []\n",
        "for record in data:\n",
        "    base_data = {\n",
        "        \"appointmentId\": record.get(\"appointmentId\"),\n",
        "        \"patientId\": record[\"patientDetails\"].get(\"_id\"),\n",
        "        \"firstName\": record[\"patientDetails\"].get(\"firstName\"),\n",
        "        \"lastName\": record[\"patientDetails\"].get(\"lastName\"),\n",
        "        \"gender\": record[\"patientDetails\"].get(\"gender\"),\n",
        "        \"birthDate\": record[\"patientDetails\"].get(\"birthDate\"),\n",
        "        \"phoneNumber\": record.get(\"phoneNumber\"),\n",
        "    }\n",
        "\n",
        "    for medicine in record[\"consultationData\"][\"medicines\"]:\n",
        "        row = base_data.copy()\n",
        "        row.update({\n",
        "            \"medicineId\": medicine.get(\"medicineId\"),\n",
        "            \"medicineName\": medicine.get(\"medicineName\"),\n",
        "            \"frequency\": medicine.get(\"frequency\"),\n",
        "            \"duration\": medicine.get(\"duration\"),\n",
        "            \"durationIn\": medicine.get(\"durationIn\"),\n",
        "            \"instruction\": medicine.get(\"instruction\"),\n",
        "            \"isActive\": medicine.get(\"isActive\"),\n",
        "        })\n",
        "        rows.append(row)\n",
        "    #process chief complaints\n",
        "    if not record[\"consultationData\"][\"medicines\"]:\n",
        "        for complaint in record[\"consultationData\"][\"chiefComplaints\"]:\n",
        "            row = base_data.copy()\n",
        "            row.update({\n",
        "                \"chiefComplaint\": complaint.get(\"symptomSnomedName\"),\n",
        "            })\n",
        "            rows.append(row)\n",
        "\n",
        "df = pd.DataFrame(rows)\n",
        "nf = df.drop_duplicates()\n",
        "\n",
        "csv_path = \"final_output.csv\"\n",
        "nf.to_csv(csv_path, index=False)\n",
        "\n",
        "print(f\"CSV file created at {csv_path}\")"
      ],
      "metadata": {
        "colab": {
          "base_uri": "https://localhost:8080/"
        },
        "id": "S7Xu8nf8XM-m",
        "outputId": "0a2d78f5-1d5a-4692-88c8-33bcae86275c"
      },
      "execution_count": null,
      "outputs": [
        {
          "output_type": "stream",
          "name": "stdout",
          "text": [
            "CSV file created at final_output.csv\n"
          ]
        }
      ]
    },
    {
      "cell_type": "code",
      "source": [
        "import pandas as pd\n",
        "\n",
        "df = pd.read_csv('final_output.csv')\n",
        "\n",
        "\n",
        "missing_percentage = df[['firstName', 'lastName', 'birthDate']].isnull().mean() * 100\n",
        "print(\"Missing values percentage:\\n\", missing_percentage)\n",
        "\n",
        "mode_gender = df['gender'].mode()[0]\n",
        "df['gender'] = df['gender'].fillna(mode_gender)\n",
        "\n",
        "\n",
        "female_percentage = (df['gender'].value_counts(normalize=True).get('F', 0)) * 100\n",
        "print(f\"\\nPercentage of Female after imputation: {female_percentage:.2f}%\")\n",
        "\n",
        "\n",
        "df['birthDate'] = pd.to_datetime(df['birthDate'], errors='coerce')\n",
        "\n",
        "\n",
        "print(\"Rows with invalid birthDate:\")\n",
        "print(df[df['birthDate'].isnull()].head())\n",
        "\n",
        "\n",
        "df['birthDate'] = df['birthDate'].dt.tz_localize(None)\n",
        "\n",
        "\n",
        "df['age'] = (pd.to_datetime('today') - df['birthDate']).dt.days // 365\n",
        "\n",
        "print(\"Sample of calculated ages:\")\n",
        "print(df[['birthDate', 'age']].head())\n",
        "\n",
        "\n",
        "def categorize_age(age):\n",
        "    if age <= 12:\n",
        "        return 'Child'\n",
        "    elif age <= 19:\n",
        "        return 'Teen'\n",
        "    elif age <= 59:\n",
        "        return 'Adult'\n",
        "    elif age >= 60:\n",
        "        return 'Senior'\n",
        "    else:\n",
        "        return None\n",
        "\n",
        "df['ageGroup'] = df['age'].apply(categorize_age)\n",
        "\n",
        "print(\"Unique age groups:\")\n",
        "print(df['ageGroup'].value_counts())\n",
        "\n",
        "adult_count = df[df['ageGroup'] == 'Adult'].shape[0]\n",
        "print(f\"\\nCount of Adults: {adult_count}\")\n",
        "\n",
        "avg_medicines = df.groupby('appointmentId')['medicineName'].count().mean()\n",
        "print(f\"\\nAverage number of medicines prescribed per patient: {avg_medicines:.2f}\")\n",
        "\n",
        "\n",
        "medicine_counts = df['medicineName'].value_counts()\n",
        "third_most_frequent_medicine = medicine_counts.index[2]\n",
        "print(f\"\\n3rd most frequently prescribed medicine: {third_most_frequent_medicine}\")\n",
        "\n",
        "\n",
        "active_inactive_counts = df['isActive'].value_counts(normalize=True) * 100\n",
        "print(\"\\nPercentage distribution of active vs inactive medicines:\\n\", active_inactive_counts)"
      ],
      "metadata": {
        "colab": {
          "base_uri": "https://localhost:8080/"
        },
        "id": "2G6FgSCsZYrD",
        "outputId": "96248701-e2bc-4005-d65d-daff303c82fb"
      },
      "execution_count": null,
      "outputs": [
        {
          "output_type": "stream",
          "name": "stdout",
          "text": [
            "Missing values percentage:\n",
            " firstName     0.000000\n",
            "lastName     69.565217\n",
            "birthDate    31.884058\n",
            "dtype: float64\n",
            "\n",
            "Percentage of Female after imputation: 66.67%\n",
            "Rows with invalid birthDate:\n",
            "  appointmentId  patientId firstName lastName gender birthDate   phoneNumber  \\\n",
            "0     40d2-9c9f  T6hb630b3       Css      NaN      F       NaT  9.668690e+10   \n",
            "1     40d2-9c9f  T6hb630b3       Css      NaN      F       NaT  9.668690e+10   \n",
            "4      g3Wt5c9f   TjhB4373     Shila      Das      F       NaT  7.787205e+09   \n",
            "5      g3Wt5c9f   TjhB4373     Shila      Das      F       NaT  7.787205e+09   \n",
            "6      g3Wt5c9f   TjhB4373     Shila      Das      F       NaT  7.787205e+09   \n",
            "\n",
            "   medicineId medicineName frequency  duration durationIn instruction  \\\n",
            "0    619404.0            A     1-0-1      90.0       DAYS  AFTER MEAL   \n",
            "1    619804.0            B     1-0-1      90.0       DAYS  AFTER MEAL   \n",
            "4    619404.0            B     1-0-1      10.0       DAYS  AFTER MEAL   \n",
            "5    619404.0            A     1-0-1      60.0       DAYS  AFTER MEAL   \n",
            "6    619404.0            C     1-0-1      90.0       DAYS  AFTER MEAL   \n",
            "\n",
            "  isActive chiefComplaint  \n",
            "0     True            NaN  \n",
            "1    False            NaN  \n",
            "4     True            NaN  \n",
            "5    False            NaN  \n",
            "6     True            NaN  \n",
            "Sample of calculated ages:\n",
            "            birthDate   age\n",
            "0                 NaT   NaN\n",
            "1                 NaT   NaN\n",
            "2 1996-05-16 18:30:00  28.0\n",
            "3 1996-05-16 18:30:00  28.0\n",
            "4                 NaT   NaN\n",
            "Unique age groups:\n",
            "ageGroup\n",
            "Adult    47\n",
            "Name: count, dtype: int64\n",
            "\n",
            "Count of Adults: 47\n",
            "\n",
            "Average number of medicines prescribed per patient: 2.24\n",
            "\n",
            "3rd most frequently prescribed medicine: C\n",
            "\n",
            "Percentage distribution of active vs inactive medicines:\n",
            " isActive\n",
            "True     70.769231\n",
            "False    29.230769\n",
            "Name: proportion, dtype: float64\n"
          ]
        }
      ]
    },
    {
      "cell_type": "code",
      "source": [
        "import pandas as pd\n",
        "\n",
        "df = pd.read_csv('final_output.csv')\n",
        "\n",
        "\n",
        "def is_valid_mobile(phone):\n",
        "    if pd.isna(phone):\n",
        "        return False\n",
        "\n",
        "    phone = str(phone)\n",
        "\n",
        "    if phone.startswith('+91'):\n",
        "        phone = phone[3:]\n",
        "    elif phone.startswith('91'):\n",
        "        phone = phone[2:]\n",
        "\n",
        "    if len(phone) == 10 and phone.isdigit():\n",
        "        num = int(phone)\n",
        "        if 6000000000 <= num <= 9999999999:\n",
        "            return True\n",
        "    return False\n",
        "\n",
        "df['isValidMobile'] = df['phoneNumber'].apply(is_valid_mobile)\n",
        "\n",
        "valid_count = df['isValidMobile'].sum()\n",
        "print(f\"Number of valid phone numbers: {valid_count}\")\n",
        "\n",
        "df.to_csv('final_output_with_valid_mobiles.csv', index=False)\n",
        "\n",
        "from google.colab import files\n",
        "files.download('final_output_with_valid_mobiles.csv')\n"
      ],
      "metadata": {
        "colab": {
          "base_uri": "https://localhost:8080/",
          "height": 35
        },
        "id": "HAzYx3TFcXGx",
        "outputId": "32e96af9-c62d-4243-ba78-738a656f8102"
      },
      "execution_count": null,
      "outputs": [
        {
          "output_type": "stream",
          "name": "stdout",
          "text": [
            "Number of valid phone numbers: 0\n"
          ]
        },
        {
          "output_type": "display_data",
          "data": {
            "text/plain": [
              "<IPython.core.display.Javascript object>"
            ],
            "application/javascript": [
              "\n",
              "    async function download(id, filename, size) {\n",
              "      if (!google.colab.kernel.accessAllowed) {\n",
              "        return;\n",
              "      }\n",
              "      const div = document.createElement('div');\n",
              "      const label = document.createElement('label');\n",
              "      label.textContent = `Downloading \"${filename}\": `;\n",
              "      div.appendChild(label);\n",
              "      const progress = document.createElement('progress');\n",
              "      progress.max = size;\n",
              "      div.appendChild(progress);\n",
              "      document.body.appendChild(div);\n",
              "\n",
              "      const buffers = [];\n",
              "      let downloaded = 0;\n",
              "\n",
              "      const channel = await google.colab.kernel.comms.open(id);\n",
              "      // Send a message to notify the kernel that we're ready.\n",
              "      channel.send({})\n",
              "\n",
              "      for await (const message of channel.messages) {\n",
              "        // Send a message to notify the kernel that we're ready.\n",
              "        channel.send({})\n",
              "        if (message.buffers) {\n",
              "          for (const buffer of message.buffers) {\n",
              "            buffers.push(buffer);\n",
              "            downloaded += buffer.byteLength;\n",
              "            progress.value = downloaded;\n",
              "          }\n",
              "        }\n",
              "      }\n",
              "      const blob = new Blob(buffers, {type: 'application/binary'});\n",
              "      const a = document.createElement('a');\n",
              "      a.href = window.URL.createObjectURL(blob);\n",
              "      a.download = filename;\n",
              "      div.appendChild(a);\n",
              "      a.click();\n",
              "      div.remove();\n",
              "    }\n",
              "  "
            ]
          },
          "metadata": {}
        },
        {
          "output_type": "display_data",
          "data": {
            "text/plain": [
              "<IPython.core.display.Javascript object>"
            ],
            "application/javascript": [
              "download(\"download_09c5140d-ec1c-4307-9ffb-6137565b344a\", \"final_output_with_valid_mobiles.csv\", 7819)"
            ]
          },
          "metadata": {}
        }
      ]
    },
    {
      "cell_type": "code",
      "source": [
        "import pandas as pd\n",
        "\n",
        "df = pd.read_csv('final_output_with_valid_mobiles.csv')\n",
        "\n",
        "df['birthDate'] = pd.to_datetime(df['birthDate'], errors='coerce')\n",
        "df['birthDate'] = df['birthDate'].dt.tz_localize(None)\n",
        "\n",
        "\n",
        "df['age'] = (pd.to_datetime('today').tz_localize(None) - df['birthDate']).dt.days // 365\n",
        "\n",
        "med_count = df.groupby('appointmentId')['medicineName'].count().reset_index()\n",
        "med_count.rename(columns={'medicineName': 'numMedicines'}, inplace=True)\n",
        "\n",
        "df_age = df[['appointmentId', 'age']].drop_duplicates()\n",
        "merged_data = pd.merge(med_count, df_age, on='appointmentId')\n",
        "\n",
        "correlation = merged_data['numMedicines'].corr(merged_data['age'], method='pearson')\n",
        "\n",
        "correlation = round(correlation, 2)\n",
        "\n",
        "print(correlation)\n"
      ],
      "metadata": {
        "colab": {
          "base_uri": "https://localhost:8080/"
        },
        "id": "j4-mo_nDc8qD",
        "outputId": "3fe1c389-1ac9-4e14-d047-9b348cdea359"
      },
      "execution_count": null,
      "outputs": [
        {
          "output_type": "stream",
          "name": "stdout",
          "text": [
            "-0.27\n"
          ]
        }
      ]
    }
  ]
}